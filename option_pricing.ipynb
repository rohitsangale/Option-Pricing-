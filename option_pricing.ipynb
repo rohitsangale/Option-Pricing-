{
 "cells": [
  {
   "cell_type": "code",
   "execution_count": 20,
   "metadata": {},
   "outputs": [],
   "source": [
    "import numpy as np\n",
    "import torch\n",
    "import tensorflow as tf\n",
    "import scipy.stats as stats"
   ]
  },
  {
   "cell_type": "markdown",
   "metadata": {},
   "source": [
    "Numpy Implementation"
   ]
  },
  {
   "cell_type": "code",
   "execution_count": 21,
   "metadata": {},
   "outputs": [],
   "source": [
    "def blackScholes_py(S_0, strike, time_to_expiry, implied_vol, riskfree_rate):\n",
    "    S = S_0\n",
    "    K = strike\n",
    "    dt = time_to_expiry\n",
    "    sigma = implied_vol\n",
    "    r = riskfree_rate\n",
    "    Phi = stats.norm.cdf\n",
    "    d_1 = (np.log(S_0 / K) + (r+sigma**2/2)*dt) / (sigma*np.sqrt(dt))\n",
    "    d_2 = d_1 - sigma*np.sqrt(dt)\n",
    "    return S*Phi(d_1) - K*np.exp(-r*dt)*Phi(d_2)"
   ]
  },
  {
   "cell_type": "code",
   "execution_count": 30,
   "metadata": {},
   "outputs": [],
   "source": [
    "#%%timeit\n",
    "S_0 = 100\n",
    "K = 101\n",
    "dt = 1\n",
    "sigma = 7\n",
    "r = 0.07\n",
    "\n",
    "npv_numpy= blackScholes_py(S_0, K, dt, sigma, r)"
   ]
  },
  {
   "cell_type": "code",
   "execution_count": 31,
   "metadata": {},
   "outputs": [
    {
     "name": "stdout",
     "output_type": "stream",
     "text": [
      "99.95485181284957\n"
     ]
    }
   ],
   "source": [
    "print(npv_numpy)"
   ]
  },
  {
   "cell_type": "code",
   "execution_count": 71,
   "metadata": {},
   "outputs": [
    {
     "ename": "SyntaxError",
     "evalue": "invalid syntax (<ipython-input-71-d5bff07bd5e3>, line 1)",
     "output_type": "error",
     "traceback": [
      "\u001b[1;36m  File \u001b[1;32m\"<ipython-input-71-d5bff07bd5e3>\"\u001b[1;36m, line \u001b[1;32m1\u001b[0m\n\u001b[1;33m    ef blackScholes_tf_pricer():\u001b[0m\n\u001b[1;37m                            ^\u001b[0m\n\u001b[1;31mSyntaxError\u001b[0m\u001b[1;31m:\u001b[0m invalid syntax\n"
     ]
    }
   ],
   "source": [
    "ef blackScholes_tf_pricer():\n",
    "    # Build the static computational graph\n",
    "    S = tf.placeholder(tf.float32)\n",
    "    K = tf.placeholder(tf.float32)\n",
    "    dt = tf.placeholder(tf.float32)\n",
    "    sigma = tf.placeholder(tf.float32)\n",
    "    r = tf.placeholder(tf.float32)\n",
    "    Phi = tf.distributions.Normal(0.,1.).cdf\n",
    "    d_1 = (tf.log(S / K) + (r+sigma**2/2)*dt) / (sigma*tf.sqrt(dt))\n",
    "    d_2 = d_1 - sigma*tf.sqrt(dt)\n",
    "    npv =  S*Phi(d_1) - K*tf.exp(-r*dt)*Phi(d_2)\n",
    "    greeks = tf.gradients(npv, [S, sigma, r, K, dt])\n",
    "    def execute_graph(S_0, strike, time_to_expiry, implied_vol, riskfree_rate):\n",
    "        with tf.Session() as sess:\n",
    "            res = sess.run([npv, greeks], \n",
    "                           {\n",
    "                               S: S_0,\n",
    "                               K : strike,\n",
    "                               r : riskfree_rate,\n",
    "                               sigma: implied_vol,\n",
    "                               dt: time_to_expiry})\n",
    "        return res\n",
    "    return execute_graph"
   ]
  },
  {
   "cell_type": "code",
   "execution_count": 68,
   "metadata": {},
   "outputs": [],
   "source": [
    "def blackScholes_pyTorch(S_0, strike, time_to_expiry, implied_vol, riskfree_rate):\n",
    "    S = S_0\n",
    "    K = strike\n",
    "    dt = time_to_expiry\n",
    "    sigma = implied_vol\n",
    "    r = riskfree_rate\n",
    "    Phi = torch.distributions.Normal(0,1).cdf\n",
    "    d_1 = (torch.log(S_0 / K) + (r+sigma**2/2)*dt) / (sigma*torch.sqrt(dt))\n",
    "    d_2 = d_1 - sigma*torch.sqrt(dt)\n",
    "    return S*Phi(d_1) - K*torch.exp(-r*dt)*Phi(d_2)"
   ]
  },
  {
   "cell_type": "code",
   "execution_count": 69,
   "metadata": {},
   "outputs": [],
   "source": [
    "#%%timeit\n",
    "S_0 = torch.tensor([8400.],requires_grad=True)\n",
    "K = torch.tensor([8600.],requires_grad=True)\n",
    "T = torch.tensor([0.08],requires_grad=True)\n",
    "sigma = torch.tensor([0.18],requires_grad=True)\n",
    "r = torch.tensor([0.07],requires_grad=True)\n",
    "npv_pytorch = blackScholes_pyTorch(S_0, K, T, sigma, r)"
   ]
  },
  {
   "cell_type": "code",
   "execution_count": 70,
   "metadata": {},
   "outputs": [
    {
     "data": {
      "text/plain": [
       "tensor([106.7126], grad_fn=<SubBackward0>)"
      ]
     },
     "execution_count": 70,
     "metadata": {},
     "output_type": "execute_result"
    }
   ],
   "source": [
    "npv_pytorch"
   ]
  },
  {
   "cell_type": "markdown",
   "metadata": {},
   "source": [
    "##Greeks"
   ]
  },
  {
   "cell_type": "code",
   "execution_count": 52,
   "metadata": {},
   "outputs": [],
   "source": [
    "#%%timeit\n",
    "S_0 = torch.tensor([100.],requires_grad=True)\n",
    "K = torch.tensor([101.],requires_grad=True)\n",
    "T = torch.tensor([1.],requires_grad=True)\n",
    "sigma = torch.tensor([0.3],requires_grad=True)\n",
    "r = torch.tensor([0.01],requires_grad=True)\n",
    "npv_pytorch = blackScholes_pyTorch(S_0, K, T, sigma, r)\n",
    "npv_pytorch.backward()\n",
    "delta_pytorch = S_0.grad\n",
    "vega_pytorch = sigma.grad\n",
    "rho_pytorch = r.grad\n",
    "theta_pytorch = T.grad\n",
    "digital_pytoch = -K.grad\n",
    "#gamma = torch.autograd.grad(npv_pytorch, S_0, create_graph=True )\n"
   ]
  },
  {
   "cell_type": "code",
   "execution_count": 53,
   "metadata": {},
   "outputs": [
    {
     "name": "stdout",
     "output_type": "stream",
     "text": [
      "Delta = 0.5596830248832703\n",
      "Vega = 39.446956634521484\n",
      "Rho = 44.042572021484375\n",
      "Theta = 6.35746955871582\n"
     ]
    }
   ],
   "source": [
    "print(\"Delta =\",float(delta_pytorch))\n",
    "print(\"Vega =\",float(vega_pytorch))\n",
    "print(\"Rho =\",float(rho_pytorch))\n",
    "print(\"Theta =\",float(theta_pytorch))"
   ]
  },
  {
   "cell_type": "code",
   "execution_count": null,
   "metadata": {},
   "outputs": [],
   "source": [
    "##Monte Carlo simulation"
   ]
  },
  {
   "cell_type": "code",
   "execution_count": 54,
   "metadata": {},
   "outputs": [],
   "source": [
    "def monte_carlo_down_out_py(S_0, strike, time_to_expiry, implied_vol, riskfree_rate, barrier, steps, samples):\n",
    "    stdnorm_random_variates = np.random.randn(samples, steps)\n",
    "    S = S_0\n",
    "    K = strike\n",
    "    dt = time_to_expiry / stdnorm_random_variates.shape[1]\n",
    "    sigma = implied_vol\n",
    "    r = riskfree_rate\n",
    "    B = barrier\n",
    "    \n",
    "    B_shift = B*np.exp(0.5826*sigma*np.sqrt(dt))\n",
    "    S_T = S * np.cumprod(np.exp((r-sigma**2/2)*dt+sigma*np.sqrt(dt)*stdnorm_random_variates), axis=1)\n",
    "    non_touch = (np.min(S_T, axis=1) > B_shift)*1\n",
    "    call_payout = np.maximum(S_T[:,-1] - K, 0)\n",
    "    npv = np.mean(non_touch * call_payout)\n",
    "    return np.exp(-time_to_expiry*r)*npv"
   ]
  },
  {
   "cell_type": "code",
   "execution_count": 55,
   "metadata": {},
   "outputs": [
    {
     "data": {
      "text/plain": [
       "7.145556483178348"
      ]
     },
     "execution_count": 55,
     "metadata": {},
     "output_type": "execute_result"
    }
   ],
   "source": [
    "monte_carlo_down_out_py(100., 110., 2., 0.2, 0.03, 90., 1000, 100000)"
   ]
  },
  {
   "cell_type": "code",
   "execution_count": null,
   "metadata": {},
   "outputs": [],
   "source": []
  },
  {
   "cell_type": "code",
   "execution_count": null,
   "metadata": {},
   "outputs": [],
   "source": [
    "##Exotic options /Barrier Option"
   ]
  },
  {
   "cell_type": "code",
   "execution_count": 60,
   "metadata": {},
   "outputs": [],
   "source": [
    "def monte_carlo_down_out_torch(S_0, strike, time_to_expiry, implied_vol, riskfree_rate, barrier, steps, samples):\n",
    "    stdnorm_random_variates = torch.distributions.Normal(0,1).sample((samples, steps))\n",
    "    S = S_0\n",
    "    K = strike\n",
    "    dt = time_to_expiry / stdnorm_random_variates.shape[1]\n",
    "    sigma = implied_vol\n",
    "    r = riskfree_rate\n",
    "    B = barrier\n",
    "    \n",
    "    B_shift = B*torch.exp(0.5826*sigma*torch.sqrt(dt))\n",
    "    S_T = S * torch.cumprod(torch.exp((r-sigma**2/2)*dt+sigma*torch.sqrt(dt)*stdnorm_random_variates), dim=1)\n",
    "    non_touch = torch.min(S_T, dim=1)[0] > B_shift\n",
    "    call_payout = S_T[:,-1] - K\n",
    "    call_payout[call_payout<0]=0\n",
    "    npv = torch.mean(non_touch.type(torch.FloatTensor) * call_payout)\n",
    "    return torch.exp(-time_to_expiry*r)*npv"
   ]
  },
  {
   "cell_type": "code",
   "execution_count": 64,
   "metadata": {},
   "outputs": [],
   "source": [
    "S = torch.tensor([8400.],requires_grad=True)\n",
    "K = torch.tensor([8600.],requires_grad=True)\n",
    "T = torch.tensor([0.08],requires_grad=True)\n",
    "sigma = torch.tensor([0.18],requires_grad=True)\n",
    "r = torch.tensor([0.07],requires_grad=True)\n",
    "B = torch.tensor([90.],requires_grad=True)\n",
    "npv_torch_mc = monte_carlo_down_out_torch(S, K, T, sigma, r, B, 1000, 100000)\n",
    "npv_torch_mc.backward()"
   ]
  },
  {
   "cell_type": "code",
   "execution_count": 65,
   "metadata": {},
   "outputs": [
    {
     "data": {
      "text/plain": [
       "tensor([106.6766], grad_fn=<MulBackward0>)"
      ]
     },
     "execution_count": 65,
     "metadata": {},
     "output_type": "execute_result"
    }
   ],
   "source": [
    "npv_torch_mc"
   ]
  },
  {
   "cell_type": "code",
   "execution_count": null,
   "metadata": {},
   "outputs": [],
   "source": []
  }
 ],
 "metadata": {
  "kernelspec": {
   "display_name": "Python 3",
   "language": "python",
   "name": "python3"
  },
  "language_info": {
   "codemirror_mode": {
    "name": "ipython",
    "version": 3
   },
   "file_extension": ".py",
   "mimetype": "text/x-python",
   "name": "python",
   "nbconvert_exporter": "python",
   "pygments_lexer": "ipython3",
   "version": "3.6.7"
  }
 },
 "nbformat": 4,
 "nbformat_minor": 2
}
